{
 "cells": [
  {
   "cell_type": "code",
   "execution_count": null,
   "metadata": {},
   "outputs": [],
   "source": [
    "import datashader as ds\n",
    "import datashader.transfer_functions as tf\n",
    "import datashader.glyphs\n",
    "from datashader import reductions\n",
    "from datashader.core import bypixel\n",
    "from datashader.utils import lnglat_to_meters as webm, export_image\n",
    "from datashader.colors import colormap_select, Greys9, viridis, inferno\n",
    "import copy\n",
    "\n",
    "\n",
    "from pyproj import Proj, transform\n",
    "import numpy as np\n",
    "import pandas as pd\n",
    "import urllib\n",
    "import json\n",
    "import datetime\n",
    "import colorlover as cl\n",
    "\n",
    "import plotly.offline as py\n",
    "import plotly.graph_objs as go\n",
    "from plotly import tools\n",
    "\n",
    "# from shapely.geometry import Point, Polygon, shape\n",
    "# In order to get shapley, you'll need to run [pip install shapely.geometry] from your terminal\n",
    "\n",
    "from functools import partial\n",
    "\n",
    "from IPython.display import GeoJSON\n",
    "\n",
    "py.init_notebook_mode()"
   ]
  },
  {
   "cell_type": "markdown",
   "metadata": {},
   "source": [
    "For module 2 we'll be looking at techniques for dealing with big data. In particular binning strategies and the datashader library (which possibly proves we'll never need to bin large data for visualization ever again.)\n",
    "\n",
    "To demonstrate these concepts we'll be looking at the PLUTO dataset put out by New York City's department of city planning. PLUTO contains data about every tax lot in New York City.\n",
    "\n",
    "PLUTO data can be downloaded from [here](https://www1.nyc.gov/site/planning/data-maps/open-data/dwn-pluto-mappluto.page). Unzip them to the same directory as this notebook, and you should be able to read them in using this (or very similar) code. Also take note of the data dictionary, it'll come in handy for this assignment."
   ]
  },
  {
   "cell_type": "code",
   "execution_count": null,
   "metadata": {},
   "outputs": [],
   "source": [
    "# Code to read in v17, column names have been updated (without upper case letters) for v18\n",
    "\n",
    "# bk = pd.read_csv('PLUTO17v1.1/BK2017V11.csv')\n",
    "# bx = pd.read_csv('PLUTO17v1.1/BX2017V11.csv')\n",
    "# mn = pd.read_csv('PLUTO17v1.1/MN2017V11.csv')\n",
    "# qn = pd.read_csv('PLUTO17v1.1/QN2017V11.csv')\n",
    "# si = pd.read_csv('PLUTO17v1.1/SI2017V11.csv')\n",
    "\n",
    "# ny = pd.concat([bk, bx, mn, qn, si], ignore_index=True)\n",
    "\n",
    "ny = pd.read_csv('pluto_22v3_1.csv')\n",
    "\n",
    "\n",
    "# Getting rid of some outliers\n",
    "ny = ny[(ny['yearbuilt'] > 1850) & (ny['yearbuilt'] < 2020) & (ny['numfloors'] != 0)]"
   ]
  },
  {
   "cell_type": "markdown",
   "metadata": {},
   "source": [
    "I'll also do some prep for the geographic component of this data, which we'll be relying on for datashader.\n",
    "\n",
    "You're not required to know how I'm retrieving the lattitude and longitude here, but for those interested: this dataset uses a flat x-y projection (assuming for a small enough area that the world is flat for easier calculations), and this needs to be projected back to traditional lattitude and longitude."
   ]
  },
  {
   "cell_type": "code",
   "execution_count": null,
   "metadata": {},
   "outputs": [],
   "source": [
    "\n",
    "\n",
    "# wgs84 = Proj(\"+proj=longlat +ellps=GRS80 +datum=NAD83 +no_defs\")\n",
    "# nyli = Proj(\"+proj=lcc +lat_1=40.66666666666666 +lat_2=41.03333333333333 +lat_0=40.16666666666666 +lon_0=-74 +x_0=300000 +y_0=0 +ellps=GRS80 +datum=NAD83 +to_meter=0.3048006096012192 +no_defs\")\n",
    "# ny['xcoord'] = 0.3048*ny['xcoord']\n",
    "# ny['ycoord'] = 0.3048*ny['ycoord']\n",
    "# ny['lon'], ny['lat'] = transform(nyli, wgs84, ny['xcoord'].values, ny['ycoord'].values)\n",
    "\n",
    "# ny = ny[(ny['lon'] < -60) & (ny['lon'] > -100) & (ny['lat'] < 60) & (ny['lat'] > 20)]\n",
    "\n",
    "#Defining some helper functions for DataShader\n",
    "background = \"black\"\n",
    "export = partial(export_image, background = background, export_path=\"export\")\n",
    "cm = partial(colormap_select, reverse=(background!=\"black\"))"
   ]
  },
  {
   "cell_type": "markdown",
   "metadata": {},
   "source": [
    "## Part 1: Binning and Aggregation\n",
    "\n",
    "Binning is a common strategy for visualizing large datasets. Binning is inherent to a few types of visualizations, such as histograms and [2D histograms](https://plot.ly/python/2D-Histogram/) (also check out their close relatives: [2D density plots](https://plot.ly/python/2d-density-plots/) and the more general form: [heatmaps](https://plot.ly/python/heatmaps/).\n",
    "\n",
    "While these visualization types explicitly include binning, any type of visualization used with aggregated data can be looked at in the same way. For example, lets say we wanted to look at building construction over time. This would be best viewed as a line graph, but we can still think of our results as being binned by year:"
   ]
  },
  {
   "cell_type": "code",
   "execution_count": null,
   "metadata": {},
   "outputs": [],
   "source": [
    "trace = go.Scatter(\n",
    "    # I'm choosing BBL here because I know it's a unique key.\n",
    "    x = ny.groupby('yearbuilt').count()['bbl'].index,\n",
    "    y = ny.groupby('yearbuilt').count()['bbl']\n",
    ")\n",
    "\n",
    "layout = go.Layout(\n",
    "    xaxis = dict(title = 'Year Built'),\n",
    "    yaxis = dict(title = 'Number of Lots Built')\n",
    ")\n",
    "\n",
    "fig = go.FigureWidget(data = [trace], layout = layout)\n",
    "\n",
    "fig"
   ]
  },
  {
   "cell_type": "markdown",
   "metadata": {},
   "source": [
    "Something looks off... You're going to have to deal with this imperfect data to answer this first question. \n",
    "\n",
    "But first: some notes on pandas. Pandas dataframes are a different beast than R dataframes, here are some tips to help you get up to speed:\n",
    "\n",
    "---\n",
    "\n",
    "Hello all, here are some pandas tips to help you guys through this homework:\n",
    "\n",
    "[Indexing and Selecting](https://pandas.pydata.org/pandas-docs/stable/indexing.html): .loc and .iloc are the analogs for base R subsetting, or filter() in dplyr\n",
    "\n",
    "[Group By](https://pandas.pydata.org/pandas-docs/stable/groupby.html):  This is the pandas analog to group_by() and the appended function the analog to summarize(). Try out a few examples of this, and display the results in Jupyter. Take note of what's happening to the indexes, you'll notice that they'll become hierarchical. I personally find this more of a burden than a help, and this sort of hierarchical indexing leads to a fundamentally different experience compared to R dataframes. Once you perform an aggregation, try running the resulting hierarchical datafrome through a [reset_index()](https://pandas.pydata.org/pandas-docs/stable/generated/pandas.DataFrame.reset_index.html).\n",
    "\n",
    "[Reset_index](https://pandas.pydata.org/pandas-docs/stable/generated/pandas.DataFrame.reset_index.html): I personally find the hierarchical indexes more of a burden than a help, and this sort of hierarchical indexing leads to a fundamentally different experience compared to R dataframes. reset_index() is a way of restoring a dataframe to a flatter index style. Grouping is where you'll notice it the most, but it's also useful when you filter data, and in a few other split-apply-combine workflows. With pandas indexes are more meaningful, so use this if you start getting unexpected results.\n",
    "\n",
    "Indexes are more important in Pandas than in R. If you delve deeper into the using python for data science, you'll begin to see the benefits in many places (despite the personal gripes I highlighted above.) One place these indexes come in handy is with time series data. The pandas docs have a [huge section](http://pandas.pydata.org/pandas-docs/stable/timeseries.html) on datetime indexing. In particular, check out [resample](https://pandas.pydata.org/pandas-docs/stable/generated/pandas.DataFrame.resample.html), which provides time series specific aggregation.\n",
    "\n",
    "[Merging, joining, and concatenation](https://pandas.pydata.org/pandas-docs/stable/merging.html): There's some overlap between these different types of merges, so use this as your guide. Concat is a single function that replaces cbind and rbind in R, and the results are driven by the indexes. Read through these examples to get a feel on how these are performed, but you will have to manage your indexes when you're using these functions. Merges are fairly similar to merges in R, similarly mapping to SQL joins.\n",
    "\n",
    "Apply: This is explained in the \"group by\" section linked above. These are your analogs to the plyr library in R. Take note of the lambda syntax used here, these are anonymous functions in python. Rather than predefining a custom function, you can just define it inline using lambda.\n",
    "\n",
    "Browse through the other sections for some other specifics, in particular reshaping and categorical data (pandas' answer to factors.) Pandas can take a while to get used to, but it is a pretty strong framework that makes more advanced functions easier once you get used to it. Rolling functions for example follow logically from the apply workflow (and led to the best google results ever when I first tried to find this out and googled \"pandas rolling\")\n",
    "\n",
    "Google Wes Mckinney's book \"Python for Data Analysis,\" which is a cookbook style intro to pandas. It's an O'Reilly book that should be pretty available out there.\n",
    "\n",
    "---\n",
    "\n",
    "### Question\n",
    "\n",
    "After a few building collapses, the City of New York is going to begin investigating older buildings for safety. The city is particularly worried about buildings that were unusually tall when they were built, since best-practices for safety hadn’t yet been determined. Create a graph that shows how many buildings of a certain number of floors were built in each year (note: you may want to use a log scale for the number of buildings). Find a strategy to bin buildings (It should be clear 20-29-story buildings, 30-39-story buildings, and 40-49-story buildings were first built in large numbers, but does it make sense to continue in this way as you get taller?)"
   ]
  },
  {
   "cell_type": "code",
   "execution_count": null,
   "metadata": {},
   "outputs": [],
   "source": [
    "# Start your answer here, inserting more cells as you go along\n",
    "fig = go.FigureWidget(\n",
    "    data = [\n",
    "        go.Histogram2d(x=ny['yearbuilt'], y=np.log2(ny['numfloors']), autobiny=False, ybins={'size': 1}, colorscale='Greens')\n",
    "    ]\n",
    ")\n",
    "\n",
    "fig"
   ]
  },
  {
   "cell_type": "markdown",
   "metadata": {},
   "source": [
    "## Part 2: Datashader\n",
    "\n",
    "Datashader is a library from Anaconda that does away with the need for binning data. It takes in all of your datapoints, and based on the canvas and range returns a pixel-by-pixel calculations to come up with the best representation of the data. In short, this completely eliminates the need for binning your data.\n",
    "\n",
    "As an example, lets continue with our question above and look at a 2D histogram of YearBuilt vs NumFloors:"
   ]
  },
  {
   "cell_type": "code",
   "execution_count": null,
   "metadata": {},
   "outputs": [],
   "source": [
    "fig = go.FigureWidget(\n",
    "    data = [\n",
    "        go.Histogram2d(x=ny['yearbuilt'], y=ny['numfloors'], autobiny=False, ybins={'size': 1}, colorscale='Greens')\n",
    "    ]\n",
    ")\n",
    "\n",
    "fig"
   ]
  },
  {
   "cell_type": "markdown",
   "metadata": {},
   "source": [
    "This shows us the distribution, but it's subject to some biases discussed in the Anaconda notebook [Plotting Perils](https://anaconda.org/jbednar/plotting_pitfalls/notebook). \n",
    "\n",
    "Here is what the same plot would look like in datashader:\n",
    "\n"
   ]
  },
  {
   "cell_type": "code",
   "execution_count": null,
   "metadata": {
    "scrolled": false
   },
   "outputs": [],
   "source": [
    "#Defining some helper functions for DataShader\n",
    "background = \"black\"\n",
    "export = partial(export_image, background = background, export_path=\"export\")\n",
    "cm = partial(colormap_select, reverse=(background!=\"black\"))\n",
    "\n",
    "cvs = ds.Canvas(800, 500, x_range = (ny['yearbuilt'].min(), ny['yearbuilt'].max()), \n",
    "                                y_range = (ny['numfloors'].min(), ny['numfloors'].max()))\n",
    "agg = cvs.points(ny, 'yearbuilt', 'numfloors')\n",
    "view = tf.shade(agg, cmap = cm(Greys9), how='log')\n",
    "export(tf.spread(view, px=2), 'yearvsnumfloors')"
   ]
  },
  {
   "cell_type": "markdown",
   "metadata": {},
   "source": [
    "That's technically just a scatterplot, but the points are smartly placed and colored to mimic what one gets in a heatmap. Based on the pixel size, it will either display individual points, or will color the points of denser regions.\n",
    "\n",
    "Datashader really shines when looking at geographic information. Here are the latitudes and longitudes of our dataset plotted out, giving us a map of the city colored by density of structures:"
   ]
  },
  {
   "cell_type": "code",
   "execution_count": null,
   "metadata": {},
   "outputs": [],
   "source": [
    "NewYorkCity   = (( 913164.0,  1067279.0), (120966.0, 272275.0))\n",
    "cvs = ds.Canvas(700, 700, *NewYorkCity)\n",
    "agg = cvs.points(ny, 'xcoord', 'ycoord')\n",
    "view = tf.shade(agg, cmap = cm(inferno), how='log')\n",
    "export(tf.spread(view, px=2), 'firery')"
   ]
  },
  {
   "cell_type": "markdown",
   "metadata": {},
   "source": [
    "Interestingly, since we're looking at structures, the large buildings of Manhattan show up as less dense on the map. The densest areas measured by number of lots would be single or multi family townhomes.\n",
    "\n",
    "Unfortunately, Datashader doesn't have the best documentation. Browse through the examples from their [github repo](https://github.com/bokeh/datashader/tree/master/examples). I would focus on the [visualization pipeline](https://anaconda.org/jbednar/pipeline/notebook) and the [US Census](https://anaconda.org/jbednar/census/notebook) Example for the question below. Feel free to use my samples as templates as well when you work on this problem.\n",
    "\n",
    "### Question\n",
    "\n",
    "You work for a real estate developer and are researching underbuilt areas of the city. After looking in the [Pluto data dictionary](https://www1.nyc.gov/assets/planning/download/pdf/data-maps/open-data/pluto_datadictionary.pdf?v=17v1_1), you've discovered that all tax assessments consist of two parts: The assessment of the land and assessment of the structure. You reason that there should be a correlation between these two values: more valuable land will have more valuable structures on them (more valuable in this case refers not just to a mansion vs a bungalow, but an apartment tower vs a single family home). Deviations from the norm could represent underbuilt or overbuilt areas of the city. You also recently read a really cool blog post about [bivariate choropleth maps](http://www.joshuastevens.net/cartography/make-a-bivariate-choropleth-map/), and think the technique could be used for this problem.\n",
    "\n",
    "Datashader is really cool, but it's not that great at labeling your visualization. Don't worry about providing a legend, but provide a quick explanation as to which areas of the city are overbuilt, which areas are underbuilt, and which areas are built in a way that's properly correlated with their land value."
   ]
  },
  {
   "cell_type": "code",
   "execution_count": null,
   "metadata": {},
   "outputs": [],
   "source": [
    "import warnings \n",
    "warnings.filterwarnings('ignore')\n",
    "\n",
    "assessments  = ny[['assesstot', 'assessland','longitude','latitude']]\n",
    "\n",
    "assessments['assessstructure'] = assessments['assesstot']-assessments['assessland']\n",
    "\n",
    "categories = [['low', 'med', 'high'], ['x', 'y', 'z']]\n",
    "\n",
    "bins=100/3\n",
    "\n",
    "per = np.percentile(assessments[['assessland', 'assessstructure']], [bins, 100 - bins], axis=0) \n",
    "\n",
    "assessments['Category1']= pd.cut(assessments['assessland'], [0, per[0][0], per[1][0], np.inf], right=False, labels=categories[0])\n",
    "\n",
    "assessments['Category2'] = pd.cut(assessments['assessstructure'], [0, per[0][1], per[1][1], np.inf], right=False, labels=categories[1])\n",
    "\n",
    "\n",
    "assessments['Class'] = assessments['Category1'].astype(str) + assessments['Category2'].astype(str)\n",
    "assessments['Class'] = pd.Categorical(assessments['Class'])\n",
    "\n",
    "\n",
    "colors = {'lowx': '#64acbe', 'lowy': '#627f8c', 'lowz': '#574249', \n",
    "          'medx': '#b0d5df', 'medy': '#ad9ea5', 'medz': '#985356', \n",
    "          'highx': '#e8e8e8', 'highy': '#e4acac', 'highz': '#c85a5a'}\n",
    "\n",
    "nyc  = (( -74.29,  -73.69), (40.49, 40.92))\n",
    "cvs = ds.Canvas(700, 700, *nyc)\n",
    "agg = cvs.points(assessments, 'longitude', 'latitude', ds.count_cat('Class'))\n",
    "view = tf.shade(agg, color_key = colors)\n",
    "export(tf.spread(view, px=1), 'cloropleth')"
   ]
  },
  {
   "attachments": {},
   "cell_type": "markdown",
   "metadata": {},
   "source": [
    "It's hard to see the amount of blue in Manhattan, but you can see it's densely red. This implies that Mahattan at least has highly value structures. For Staten Island, land value appears constant with structure value. Brooklyn appears to have a mix: there are areas that underbuilt and areas that are overbuilt. The Bronx is mostly underbuilt. Upper Queens seems to have the most correlation between the value of structures and land."
   ]
  }
 ],
 "metadata": {
  "kernelspec": {
   "display_name": "Python 3",
   "language": "python",
   "name": "python3"
  },
  "language_info": {
   "codemirror_mode": {
    "name": "ipython",
    "version": 3
   },
   "file_extension": ".py",
   "mimetype": "text/x-python",
   "name": "python",
   "nbconvert_exporter": "python",
   "pygments_lexer": "ipython3",
   "version": "3.10.0"
  },
  "vscode": {
   "interpreter": {
    "hash": "3b475b8690be89dac66da44d049257240312f64c0cbcb399a5526c8045c0ea4b"
   }
  }
 },
 "nbformat": 4,
 "nbformat_minor": 2
}
